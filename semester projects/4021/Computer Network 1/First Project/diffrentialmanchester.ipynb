{
 "cells": [
  {
   "cell_type": "code",
   "execution_count": 1,
   "metadata": {},
   "outputs": [
    {
     "name": "stdout",
     "output_type": "stream",
     "text": [
      "[0, 0.5, 1.0, 1.5, 2.0, 2.5, 3.0, 3.5, 4.0, 4.5, 5.0, 5.5, 6.0, 6.5, 7.0, 7.5, 8.0]\n",
      "10110101\n",
      "[1]\n"
     ]
    }
   ],
   "source": [
    "\n",
    "import matplotlib.pyplot as plt\n",
    "x = []\n",
    "cur=1\n",
    "y=[cur]\n",
    "my='10110101'\n",
    "value = 0\n",
    "while value <= len(my):\n",
    "    x.append(value)\n",
    "    value += 0.5\n",
    "print(x)\n",
    "print(my)\n",
    "print(y)\n"
   ]
  },
  {
   "cell_type": "code",
   "execution_count": 2,
   "metadata": {},
   "outputs": [
    {
     "name": "stdout",
     "output_type": "stream",
     "text": [
      "[1, 1, 0]\n",
      "[1, 1, 0, 1, 0]\n",
      "[1, 1, 0, 1, 0, 0, 1]\n",
      "[1, 1, 0, 1, 0, 0, 1, 1, 0]\n",
      "[1, 1, 0, 1, 0, 0, 1, 1, 0, 1, 0]\n",
      "[1, 1, 0, 1, 0, 0, 1, 1, 0, 1, 0, 0, 1]\n",
      "[1, 1, 0, 1, 0, 0, 1, 1, 0, 1, 0, 0, 1, 0, 1]\n",
      "[1, 1, 0, 1, 0, 0, 1, 1, 0, 1, 0, 0, 1, 0, 1, 1, 0]\n"
     ]
    },
    {
     "data": {
      "image/png": "[encoded data removed]",
      "text/plain": [
       "<Figure size 640x480 with 1 Axes>"
      ]
     },
     "metadata": {},
     "output_type": "display_data"
    },
    {
     "name": "stdout",
     "output_type": "stream",
     "text": [
      "[1, 1, 0, 1, 0, 0, 1, 1, 0, 1, 0, 0, 1, 0, 1, 1, 0]\n"
     ]
    }
   ],
   "source": [
    "%matplotlib inline \n",
    "for i in range (len(my)):\n",
    "    if my[i]=='0' and cur==1:\n",
    "        y=y+[0]+[1]\n",
    "        print(y)     \n",
    "\n",
    "    elif my[i]=='0' and cur==0:\n",
    "        y=y+[1]+[0]\n",
    "        print(y)     \n",
    "\n",
    "        \n",
    "    elif my[i]=='1' and cur==1:\n",
    "        y=y+[1]+[0]\n",
    "        cur=0\n",
    "        print(y)     \n",
    "\n",
    "    elif my[i]=='1' and cur==0:\n",
    "        y=y+[0]+[1]\n",
    "        cur=1\n",
    "        print(y)     \n",
    "\n",
    "#01        \n",
    "for i in range(len(my)):\n",
    "    plt.text(i+0.5, 1, my[i],  ha='center', va='bottom')\n",
    "for i in range(1, len(my) + 1):\n",
    "    plt.axvline(x=i, color='k', linestyle='--')  \n",
    "plt.step(x,y,color='b')\n",
    "plt.grid(True)\n",
    "plt.show()        \n",
    "\n",
    "print(y)        "
   ]
  }
 ],
 "metadata": {
  "kernelspec": {
   "display_name": "Python 3",
   "language": "python",
   "name": "python3"
  },
  "language_info": {
   "codemirror_mode": {
    "name": "ipython",
    "version": 3
   },
   "file_extension": ".py",
   "mimetype": "text/x-python",
   "name": "python",
   "nbconvert_exporter": "python",
   "pygments_lexer": "ipython3",
   "version": "3.12.1"
  }
 },
 "nbformat": 4,
 "nbformat_minor": 2
}
